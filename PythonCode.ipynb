{
 "cells": [
  {
   "cell_type": "code",
   "execution_count": 4,
   "id": "321d998e",
   "metadata": {},
   "outputs": [
    {
     "name": "stdout",
     "output_type": "stream",
     "text": [
      "3->6->3 Convergent\n"
     ]
    }
   ],
   "source": [
    "import math\n",
    "\n",
    "\n",
    "def hailstones(x, a, b):\n",
    "   \n",
    "\n",
    "        \n",
    "            if math.modf(x/2)[0] == 0:\n",
    "                    return x/2\n",
    "            else:\n",
    "                    return a*x + b\n",
    "\n",
    "\n",
    "\n",
    "\n",
    "def generate_list(y, a, b):\n",
    "    \n",
    "    hailstones_list = []\n",
    "    hailstones_list.append(y)\n",
    "    for i in range(1, 100):\n",
    "            if i == 1:\n",
    "                    n = hailstones(y, a, b)\n",
    "            else:\n",
    "                    n = hailstones(x, a, b)\n",
    "            hailstones_list.append(n)\n",
    "            x = n\n",
    "    return hailstones_list \n",
    "     \n",
    "    \n",
    "   \n",
    "    \n",
    "    \n",
    "def hailstone_pattern(alist):\n",
    "   \n",
    "    \n",
    "    pattern = []\n",
    "    a_set = set(alist)\n",
    "    for item in alist:\n",
    "        if item in a_set and alist.count(item)>1 and item not in pattern:\n",
    "            pattern.append(item)\n",
    "\n",
    "    pattern = '->'.join([str(int(i)) for i in pattern])+ '->' + str(int(pattern[0]))     \n",
    "    print(pattern, \"Convergent\")\n",
    "     \n",
    "\n",
    "y = 3\n",
    "a = 1\n",
    "b = 3\n",
    "\n",
    "\n",
    "   \n",
    "if a + b <= 10:\n",
    "    l = generate_list(y, a, b)\n",
    "    hailstone_pattern(l)\n",
    "    \n",
    "\n"
   ]
  },
  {
   "cell_type": "code",
   "execution_count": null,
   "id": "07b6e306",
   "metadata": {},
   "outputs": [],
   "source": []
  }
 ],
 "metadata": {
  "kernelspec": {
   "display_name": "Python 3",
   "language": "python",
   "name": "python3"
  },
  "language_info": {
   "codemirror_mode": {
    "name": "ipython",
    "version": 3
   },
   "file_extension": ".py",
   "mimetype": "text/x-python",
   "name": "python",
   "nbconvert_exporter": "python",
   "pygments_lexer": "ipython3",
   "version": "3.8.8"
  }
 },
 "nbformat": 4,
 "nbformat_minor": 5
}
